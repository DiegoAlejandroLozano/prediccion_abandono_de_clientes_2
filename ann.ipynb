{
 "cells": [
  {
   "cell_type": "markdown",
   "metadata": {},
   "source": [
    "Importanción de librerias"
   ]
  },
  {
   "cell_type": "code",
   "execution_count": 31,
   "metadata": {},
   "outputs": [],
   "source": [
    "import warnings\n",
    "warnings.filterwarnings(\"ignore\")"
   ]
  },
  {
   "cell_type": "code",
   "execution_count": 32,
   "metadata": {},
   "outputs": [],
   "source": [
    "import pandas as pd\n",
    "import numpy as np\n",
    "\n",
    "from keras.models import Sequential\n",
    "from keras.layers import Dense, Dropout\n",
    "from keras.wrappers.scikit_learn import KerasClassifier\n",
    "\n",
    "from sklearn.model_selection import train_test_split, cross_val_score\n",
    "from sklearn.preprocessing import StandardScaler\n",
    "from sklearn.metrics import confusion_matrix"
   ]
  },
  {
   "cell_type": "markdown",
   "metadata": {},
   "source": [
    "### Parte 1: Procesamiento de los datos"
   ]
  },
  {
   "cell_type": "markdown",
   "metadata": {},
   "source": [
    "Cargando de los datos"
   ]
  },
  {
   "cell_type": "code",
   "execution_count": 33,
   "metadata": {},
   "outputs": [
    {
     "data": {
      "text/html": [
       "<div>\n",
       "<style scoped>\n",
       "    .dataframe tbody tr th:only-of-type {\n",
       "        vertical-align: middle;\n",
       "    }\n",
       "\n",
       "    .dataframe tbody tr th {\n",
       "        vertical-align: top;\n",
       "    }\n",
       "\n",
       "    .dataframe thead th {\n",
       "        text-align: right;\n",
       "    }\n",
       "</style>\n",
       "<table border=\"1\" class=\"dataframe\">\n",
       "  <thead>\n",
       "    <tr style=\"text-align: right;\">\n",
       "      <th></th>\n",
       "      <th>RowNumber</th>\n",
       "      <th>CustomerId</th>\n",
       "      <th>Surname</th>\n",
       "      <th>CreditScore</th>\n",
       "      <th>Geography</th>\n",
       "      <th>Gender</th>\n",
       "      <th>Age</th>\n",
       "      <th>Tenure</th>\n",
       "      <th>Balance</th>\n",
       "      <th>NumOfProducts</th>\n",
       "      <th>HasCrCard</th>\n",
       "      <th>IsActiveMember</th>\n",
       "      <th>EstimatedSalary</th>\n",
       "      <th>Exited</th>\n",
       "    </tr>\n",
       "  </thead>\n",
       "  <tbody>\n",
       "    <tr>\n",
       "      <th>0</th>\n",
       "      <td>1</td>\n",
       "      <td>15634602</td>\n",
       "      <td>Hargrave</td>\n",
       "      <td>619</td>\n",
       "      <td>France</td>\n",
       "      <td>Female</td>\n",
       "      <td>42</td>\n",
       "      <td>2</td>\n",
       "      <td>0.00</td>\n",
       "      <td>1</td>\n",
       "      <td>1</td>\n",
       "      <td>1</td>\n",
       "      <td>101348.88</td>\n",
       "      <td>1</td>\n",
       "    </tr>\n",
       "    <tr>\n",
       "      <th>1</th>\n",
       "      <td>2</td>\n",
       "      <td>15647311</td>\n",
       "      <td>Hill</td>\n",
       "      <td>608</td>\n",
       "      <td>Spain</td>\n",
       "      <td>Female</td>\n",
       "      <td>41</td>\n",
       "      <td>1</td>\n",
       "      <td>83807.86</td>\n",
       "      <td>1</td>\n",
       "      <td>0</td>\n",
       "      <td>1</td>\n",
       "      <td>112542.58</td>\n",
       "      <td>0</td>\n",
       "    </tr>\n",
       "    <tr>\n",
       "      <th>2</th>\n",
       "      <td>3</td>\n",
       "      <td>15619304</td>\n",
       "      <td>Onio</td>\n",
       "      <td>502</td>\n",
       "      <td>France</td>\n",
       "      <td>Female</td>\n",
       "      <td>42</td>\n",
       "      <td>8</td>\n",
       "      <td>159660.80</td>\n",
       "      <td>3</td>\n",
       "      <td>1</td>\n",
       "      <td>0</td>\n",
       "      <td>113931.57</td>\n",
       "      <td>1</td>\n",
       "    </tr>\n",
       "    <tr>\n",
       "      <th>3</th>\n",
       "      <td>4</td>\n",
       "      <td>15701354</td>\n",
       "      <td>Boni</td>\n",
       "      <td>699</td>\n",
       "      <td>France</td>\n",
       "      <td>Female</td>\n",
       "      <td>39</td>\n",
       "      <td>1</td>\n",
       "      <td>0.00</td>\n",
       "      <td>2</td>\n",
       "      <td>0</td>\n",
       "      <td>0</td>\n",
       "      <td>93826.63</td>\n",
       "      <td>0</td>\n",
       "    </tr>\n",
       "    <tr>\n",
       "      <th>4</th>\n",
       "      <td>5</td>\n",
       "      <td>15737888</td>\n",
       "      <td>Mitchell</td>\n",
       "      <td>850</td>\n",
       "      <td>Spain</td>\n",
       "      <td>Female</td>\n",
       "      <td>43</td>\n",
       "      <td>2</td>\n",
       "      <td>125510.82</td>\n",
       "      <td>1</td>\n",
       "      <td>1</td>\n",
       "      <td>1</td>\n",
       "      <td>79084.10</td>\n",
       "      <td>0</td>\n",
       "    </tr>\n",
       "  </tbody>\n",
       "</table>\n",
       "</div>"
      ],
      "text/plain": [
       "   RowNumber  CustomerId   Surname  ...  IsActiveMember EstimatedSalary Exited\n",
       "0          1    15634602  Hargrave  ...               1       101348.88      1\n",
       "1          2    15647311      Hill  ...               1       112542.58      0\n",
       "2          3    15619304      Onio  ...               0       113931.57      1\n",
       "3          4    15701354      Boni  ...               0        93826.63      0\n",
       "4          5    15737888  Mitchell  ...               1        79084.10      0\n",
       "\n",
       "[5 rows x 14 columns]"
      ]
     },
     "execution_count": 33,
     "metadata": {},
     "output_type": "execute_result"
    }
   ],
   "source": [
    "dataset = pd.read_csv('datos_crudos/Churn_Modelling.csv')\n",
    "dataset.head()"
   ]
  },
  {
   "cell_type": "markdown",
   "metadata": {},
   "source": [
    "Separando las variables independientes y la variable dependiente"
   ]
  },
  {
   "cell_type": "code",
   "execution_count": 34,
   "metadata": {},
   "outputs": [],
   "source": [
    "X = dataset.iloc[:, 3:13] #Variables independientes\n",
    "y = dataset.iloc[:, 13] #Variable dependiente"
   ]
  },
  {
   "cell_type": "markdown",
   "metadata": {},
   "source": [
    "Codificación de datos categóricos"
   ]
  },
  {
   "cell_type": "code",
   "execution_count": 35,
   "metadata": {},
   "outputs": [
    {
     "data": {
      "text/html": [
       "<div>\n",
       "<style scoped>\n",
       "    .dataframe tbody tr th:only-of-type {\n",
       "        vertical-align: middle;\n",
       "    }\n",
       "\n",
       "    .dataframe tbody tr th {\n",
       "        vertical-align: top;\n",
       "    }\n",
       "\n",
       "    .dataframe thead th {\n",
       "        text-align: right;\n",
       "    }\n",
       "</style>\n",
       "<table border=\"1\" class=\"dataframe\">\n",
       "  <thead>\n",
       "    <tr style=\"text-align: right;\">\n",
       "      <th></th>\n",
       "      <th>CreditScore</th>\n",
       "      <th>Gender</th>\n",
       "      <th>Age</th>\n",
       "      <th>Tenure</th>\n",
       "      <th>Balance</th>\n",
       "      <th>NumOfProducts</th>\n",
       "      <th>HasCrCard</th>\n",
       "      <th>IsActiveMember</th>\n",
       "      <th>EstimatedSalary</th>\n",
       "      <th>Geography_France</th>\n",
       "      <th>Geography_Germany</th>\n",
       "    </tr>\n",
       "  </thead>\n",
       "  <tbody>\n",
       "    <tr>\n",
       "      <th>0</th>\n",
       "      <td>619</td>\n",
       "      <td>Female</td>\n",
       "      <td>42</td>\n",
       "      <td>2</td>\n",
       "      <td>0.00</td>\n",
       "      <td>1</td>\n",
       "      <td>1</td>\n",
       "      <td>1</td>\n",
       "      <td>101348.88</td>\n",
       "      <td>1</td>\n",
       "      <td>0</td>\n",
       "    </tr>\n",
       "    <tr>\n",
       "      <th>1</th>\n",
       "      <td>608</td>\n",
       "      <td>Female</td>\n",
       "      <td>41</td>\n",
       "      <td>1</td>\n",
       "      <td>83807.86</td>\n",
       "      <td>1</td>\n",
       "      <td>0</td>\n",
       "      <td>1</td>\n",
       "      <td>112542.58</td>\n",
       "      <td>0</td>\n",
       "      <td>0</td>\n",
       "    </tr>\n",
       "    <tr>\n",
       "      <th>2</th>\n",
       "      <td>502</td>\n",
       "      <td>Female</td>\n",
       "      <td>42</td>\n",
       "      <td>8</td>\n",
       "      <td>159660.80</td>\n",
       "      <td>3</td>\n",
       "      <td>1</td>\n",
       "      <td>0</td>\n",
       "      <td>113931.57</td>\n",
       "      <td>1</td>\n",
       "      <td>0</td>\n",
       "    </tr>\n",
       "    <tr>\n",
       "      <th>3</th>\n",
       "      <td>699</td>\n",
       "      <td>Female</td>\n",
       "      <td>39</td>\n",
       "      <td>1</td>\n",
       "      <td>0.00</td>\n",
       "      <td>2</td>\n",
       "      <td>0</td>\n",
       "      <td>0</td>\n",
       "      <td>93826.63</td>\n",
       "      <td>1</td>\n",
       "      <td>0</td>\n",
       "    </tr>\n",
       "    <tr>\n",
       "      <th>4</th>\n",
       "      <td>850</td>\n",
       "      <td>Female</td>\n",
       "      <td>43</td>\n",
       "      <td>2</td>\n",
       "      <td>125510.82</td>\n",
       "      <td>1</td>\n",
       "      <td>1</td>\n",
       "      <td>1</td>\n",
       "      <td>79084.10</td>\n",
       "      <td>0</td>\n",
       "      <td>0</td>\n",
       "    </tr>\n",
       "  </tbody>\n",
       "</table>\n",
       "</div>"
      ],
      "text/plain": [
       "   CreditScore  Gender  Age  ...  EstimatedSalary  Geography_France  Geography_Germany\n",
       "0          619  Female   42  ...        101348.88                 1                  0\n",
       "1          608  Female   41  ...        112542.58                 0                  0\n",
       "2          502  Female   42  ...        113931.57                 1                  0\n",
       "3          699  Female   39  ...         93826.63                 1                  0\n",
       "4          850  Female   43  ...         79084.10                 0                  0\n",
       "\n",
       "[5 rows x 11 columns]"
      ]
     },
     "execution_count": 35,
     "metadata": {},
     "output_type": "execute_result"
    }
   ],
   "source": [
    "#Codificando la variable categórica \"Geography\"\n",
    "one_hot_encoding = pd.get_dummies(X['Geography'], prefix='Geography').astype(int)\n",
    "X = pd.concat([X, one_hot_encoding], axis=1)\n",
    "#Se elimina la columna \"Geography_Spain\" para evitar problemas de multicolinealidad\n",
    "X.drop(['Geography', 'Geography_Spain'], axis=1, inplace=True)\n",
    "X.head()"
   ]
  },
  {
   "cell_type": "code",
   "execution_count": 36,
   "metadata": {},
   "outputs": [
    {
     "data": {
      "text/html": [
       "<div>\n",
       "<style scoped>\n",
       "    .dataframe tbody tr th:only-of-type {\n",
       "        vertical-align: middle;\n",
       "    }\n",
       "\n",
       "    .dataframe tbody tr th {\n",
       "        vertical-align: top;\n",
       "    }\n",
       "\n",
       "    .dataframe thead th {\n",
       "        text-align: right;\n",
       "    }\n",
       "</style>\n",
       "<table border=\"1\" class=\"dataframe\">\n",
       "  <thead>\n",
       "    <tr style=\"text-align: right;\">\n",
       "      <th></th>\n",
       "      <th>CreditScore</th>\n",
       "      <th>Age</th>\n",
       "      <th>Tenure</th>\n",
       "      <th>Balance</th>\n",
       "      <th>NumOfProducts</th>\n",
       "      <th>HasCrCard</th>\n",
       "      <th>IsActiveMember</th>\n",
       "      <th>EstimatedSalary</th>\n",
       "      <th>Geography_France</th>\n",
       "      <th>Geography_Germany</th>\n",
       "      <th>Gender</th>\n",
       "    </tr>\n",
       "  </thead>\n",
       "  <tbody>\n",
       "    <tr>\n",
       "      <th>0</th>\n",
       "      <td>619</td>\n",
       "      <td>42</td>\n",
       "      <td>2</td>\n",
       "      <td>0.00</td>\n",
       "      <td>1</td>\n",
       "      <td>1</td>\n",
       "      <td>1</td>\n",
       "      <td>101348.88</td>\n",
       "      <td>1</td>\n",
       "      <td>0</td>\n",
       "      <td>1</td>\n",
       "    </tr>\n",
       "    <tr>\n",
       "      <th>1</th>\n",
       "      <td>608</td>\n",
       "      <td>41</td>\n",
       "      <td>1</td>\n",
       "      <td>83807.86</td>\n",
       "      <td>1</td>\n",
       "      <td>0</td>\n",
       "      <td>1</td>\n",
       "      <td>112542.58</td>\n",
       "      <td>0</td>\n",
       "      <td>0</td>\n",
       "      <td>1</td>\n",
       "    </tr>\n",
       "    <tr>\n",
       "      <th>2</th>\n",
       "      <td>502</td>\n",
       "      <td>42</td>\n",
       "      <td>8</td>\n",
       "      <td>159660.80</td>\n",
       "      <td>3</td>\n",
       "      <td>1</td>\n",
       "      <td>0</td>\n",
       "      <td>113931.57</td>\n",
       "      <td>1</td>\n",
       "      <td>0</td>\n",
       "      <td>1</td>\n",
       "    </tr>\n",
       "    <tr>\n",
       "      <th>3</th>\n",
       "      <td>699</td>\n",
       "      <td>39</td>\n",
       "      <td>1</td>\n",
       "      <td>0.00</td>\n",
       "      <td>2</td>\n",
       "      <td>0</td>\n",
       "      <td>0</td>\n",
       "      <td>93826.63</td>\n",
       "      <td>1</td>\n",
       "      <td>0</td>\n",
       "      <td>1</td>\n",
       "    </tr>\n",
       "    <tr>\n",
       "      <th>4</th>\n",
       "      <td>850</td>\n",
       "      <td>43</td>\n",
       "      <td>2</td>\n",
       "      <td>125510.82</td>\n",
       "      <td>1</td>\n",
       "      <td>1</td>\n",
       "      <td>1</td>\n",
       "      <td>79084.10</td>\n",
       "      <td>0</td>\n",
       "      <td>0</td>\n",
       "      <td>1</td>\n",
       "    </tr>\n",
       "  </tbody>\n",
       "</table>\n",
       "</div>"
      ],
      "text/plain": [
       "   CreditScore  Age  Tenure  ...  Geography_France  Geography_Germany  Gender\n",
       "0          619   42       2  ...                 1                  0       1\n",
       "1          608   41       1  ...                 0                  0       1\n",
       "2          502   42       8  ...                 1                  0       1\n",
       "3          699   39       1  ...                 1                  0       1\n",
       "4          850   43       2  ...                 0                  0       1\n",
       "\n",
       "[5 rows x 11 columns]"
      ]
     },
     "execution_count": 36,
     "metadata": {},
     "output_type": "execute_result"
    }
   ],
   "source": [
    "#Codificando la variable categórica \"Gender\"\n",
    "sexo = pd.get_dummies(X['Gender'], prefix='sex').astype(int)\n",
    "X = pd.concat([X, sexo], axis=1)\n",
    "X.drop(['Gender', 'sex_Male'], axis=1, inplace=True)\n",
    "X.rename(columns={'sex_Female':'Gender'}, inplace=True)\n",
    "X.head()\n",
    "#La columna Gender 1 es para femenino y 0 para masculino"
   ]
  },
  {
   "cell_type": "markdown",
   "metadata": {},
   "source": [
    "Dividisión del dataframe en entrenamiento y en prueba"
   ]
  },
  {
   "cell_type": "code",
   "execution_count": 37,
   "metadata": {},
   "outputs": [],
   "source": [
    "X_train, X_test, y_train, y_test = train_test_split(X, y, test_size=0.2, random_state=0)"
   ]
  },
  {
   "cell_type": "markdown",
   "metadata": {},
   "source": [
    "Escalando las variables"
   ]
  },
  {
   "cell_type": "code",
   "execution_count": 38,
   "metadata": {},
   "outputs": [],
   "source": [
    "scaler = StandardScaler()\n",
    "X_train_scaled = scaler.fit_transform(X_train)\n",
    "X_test_scaled = scaler.transform(X_test)"
   ]
  },
  {
   "cell_type": "markdown",
   "metadata": {},
   "source": [
    "### Parte 2: Construcción de la red neuronal artificial (RNA)"
   ]
  },
  {
   "cell_type": "markdown",
   "metadata": {},
   "source": [
    "Inicializando la RNA"
   ]
  },
  {
   "cell_type": "code",
   "execution_count": 39,
   "metadata": {},
   "outputs": [],
   "source": [
    "#Se crea la RNA\n",
    "clasificador = Sequential()\n",
    "\n",
    "#Se agregan las capas ocultas\n",
    "clasificador.add(Dense(units=6, kernel_initializer='uniform', activation='relu', input_dim=11))\n",
    "clasificador.add(Dense(units=6, kernel_initializer='uniform', activation='relu'))\n",
    "\n",
    "#Se agrega la capa de salidas\n",
    "clasificador.add(Dense(units=1, kernel_initializer='uniform', activation='sigmoid'))\n",
    "\n",
    "#Compilar la RNA\n",
    "clasificador.compile(\n",
    "    optimizer=\"adam\",\n",
    "    loss=\"binary_crossentropy\",\n",
    "    metrics = [\"accuracy\"]\n",
    ")"
   ]
  },
  {
   "cell_type": "markdown",
   "metadata": {},
   "source": [
    "Entrenando la RNA"
   ]
  },
  {
   "cell_type": "code",
   "execution_count": 40,
   "metadata": {},
   "outputs": [
    {
     "name": "stdout",
     "output_type": "stream",
     "text": [
      "Epoch 1/50\n"
     ]
    },
    {
     "name": "stdout",
     "output_type": "stream",
     "text": [
      "800/800 [==============================] - 5s 4ms/step - loss: 0.4949 - accuracy: 0.7961\n",
      "Epoch 2/50\n",
      "800/800 [==============================] - 2s 3ms/step - loss: 0.4318 - accuracy: 0.7960\n",
      "Epoch 3/50\n",
      "800/800 [==============================] - 2s 3ms/step - loss: 0.4290 - accuracy: 0.7960\n",
      "Epoch 4/50\n",
      "800/800 [==============================] - 2s 3ms/step - loss: 0.4255 - accuracy: 0.7960\n",
      "Epoch 5/50\n",
      "800/800 [==============================] - 2s 3ms/step - loss: 0.4213 - accuracy: 0.8040\n",
      "Epoch 6/50\n",
      "800/800 [==============================] - 2s 3ms/step - loss: 0.4183 - accuracy: 0.8230\n",
      "Epoch 7/50\n",
      "800/800 [==============================] - 3s 3ms/step - loss: 0.4154 - accuracy: 0.8288\n",
      "Epoch 8/50\n",
      "800/800 [==============================] - 2s 3ms/step - loss: 0.4145 - accuracy: 0.8286\n",
      "Epoch 9/50\n",
      "800/800 [==============================] - 2s 3ms/step - loss: 0.4128 - accuracy: 0.8319\n",
      "Epoch 10/50\n",
      "800/800 [==============================] - 2s 3ms/step - loss: 0.4110 - accuracy: 0.8320\n",
      "Epoch 11/50\n",
      "800/800 [==============================] - 2s 2ms/step - loss: 0.4103 - accuracy: 0.8334\n",
      "Epoch 12/50\n",
      "800/800 [==============================] - 2s 3ms/step - loss: 0.4094 - accuracy: 0.8340\n",
      "Epoch 13/50\n",
      "800/800 [==============================] - 2s 3ms/step - loss: 0.4089 - accuracy: 0.8338\n",
      "Epoch 14/50\n",
      "800/800 [==============================] - 2s 3ms/step - loss: 0.4077 - accuracy: 0.8340\n",
      "Epoch 15/50\n",
      "800/800 [==============================] - 2s 3ms/step - loss: 0.4072 - accuracy: 0.8367\n",
      "Epoch 16/50\n",
      "800/800 [==============================] - 3s 4ms/step - loss: 0.4067 - accuracy: 0.8353\n",
      "Epoch 17/50\n",
      "800/800 [==============================] - 4s 5ms/step - loss: 0.4051 - accuracy: 0.8354\n",
      "Epoch 18/50\n",
      "800/800 [==============================] - 3s 4ms/step - loss: 0.4039 - accuracy: 0.8347\n",
      "Epoch 19/50\n",
      "800/800 [==============================] - 3s 4ms/step - loss: 0.4028 - accuracy: 0.8356\n",
      "Epoch 20/50\n",
      "800/800 [==============================] - 3s 3ms/step - loss: 0.4019 - accuracy: 0.8363\n",
      "Epoch 21/50\n",
      "800/800 [==============================] - 2s 3ms/step - loss: 0.4011 - accuracy: 0.8347\n",
      "Epoch 22/50\n",
      "800/800 [==============================] - 2s 3ms/step - loss: 0.4001 - accuracy: 0.8356\n",
      "Epoch 23/50\n",
      "800/800 [==============================] - 2s 3ms/step - loss: 0.3996 - accuracy: 0.8344\n",
      "Epoch 24/50\n",
      "800/800 [==============================] - 2s 3ms/step - loss: 0.3990 - accuracy: 0.8370\n",
      "Epoch 25/50\n",
      "800/800 [==============================] - 3s 3ms/step - loss: 0.3986 - accuracy: 0.8356\n",
      "Epoch 26/50\n",
      "800/800 [==============================] - 2s 3ms/step - loss: 0.3988 - accuracy: 0.8341\n",
      "Epoch 27/50\n",
      "800/800 [==============================] - 2s 3ms/step - loss: 0.3982 - accuracy: 0.8344\n",
      "Epoch 28/50\n",
      "800/800 [==============================] - 2s 3ms/step - loss: 0.3978 - accuracy: 0.8357\n",
      "Epoch 29/50\n",
      "800/800 [==============================] - 2s 3ms/step - loss: 0.3972 - accuracy: 0.8350\n",
      "Epoch 30/50\n",
      "800/800 [==============================] - 2s 3ms/step - loss: 0.3973 - accuracy: 0.8345\n",
      "Epoch 31/50\n",
      "800/800 [==============================] - 2s 3ms/step - loss: 0.3968 - accuracy: 0.8367\n",
      "Epoch 32/50\n",
      "800/800 [==============================] - 2s 3ms/step - loss: 0.3969 - accuracy: 0.8351\n",
      "Epoch 33/50\n",
      "800/800 [==============================] - 2s 2ms/step - loss: 0.3967 - accuracy: 0.8334\n",
      "Epoch 34/50\n",
      "800/800 [==============================] - 2s 2ms/step - loss: 0.3967 - accuracy: 0.8359\n",
      "Epoch 35/50\n",
      "800/800 [==============================] - 2s 2ms/step - loss: 0.3964 - accuracy: 0.8356\n",
      "Epoch 36/50\n",
      "800/800 [==============================] - 2s 2ms/step - loss: 0.3958 - accuracy: 0.8347\n",
      "Epoch 37/50\n",
      "800/800 [==============================] - 2s 2ms/step - loss: 0.3966 - accuracy: 0.8351\n",
      "Epoch 38/50\n",
      "800/800 [==============================] - 2s 2ms/step - loss: 0.3961 - accuracy: 0.8349\n",
      "Epoch 39/50\n",
      "800/800 [==============================] - 2s 2ms/step - loss: 0.3960 - accuracy: 0.8349\n",
      "Epoch 40/50\n",
      "800/800 [==============================] - 2s 2ms/step - loss: 0.3960 - accuracy: 0.8359\n",
      "Epoch 41/50\n",
      "800/800 [==============================] - 2s 2ms/step - loss: 0.3958 - accuracy: 0.8369\n",
      "Epoch 42/50\n",
      "800/800 [==============================] - 2s 2ms/step - loss: 0.3956 - accuracy: 0.8350\n",
      "Epoch 43/50\n",
      "800/800 [==============================] - 2s 2ms/step - loss: 0.3957 - accuracy: 0.8351\n",
      "Epoch 44/50\n",
      "800/800 [==============================] - 2s 3ms/step - loss: 0.3951 - accuracy: 0.8365\n",
      "Epoch 45/50\n",
      "800/800 [==============================] - 2s 3ms/step - loss: 0.3954 - accuracy: 0.8364\n",
      "Epoch 46/50\n",
      "800/800 [==============================] - 2s 3ms/step - loss: 0.3955 - accuracy: 0.8354\n",
      "Epoch 47/50\n",
      "800/800 [==============================] - 3s 4ms/step - loss: 0.3955 - accuracy: 0.8341\n",
      "Epoch 48/50\n",
      "800/800 [==============================] - 2s 3ms/step - loss: 0.3953 - accuracy: 0.8346\n",
      "Epoch 49/50\n",
      "800/800 [==============================] - 2s 3ms/step - loss: 0.3952 - accuracy: 0.8360\n",
      "Epoch 50/50\n",
      "800/800 [==============================] - 2s 3ms/step - loss: 0.3956 - accuracy: 0.8353\n"
     ]
    },
    {
     "data": {
      "text/plain": [
       "<keras.callbacks.History at 0x28596e38d60>"
      ]
     },
     "execution_count": 40,
     "metadata": {},
     "output_type": "execute_result"
    }
   ],
   "source": [
    "clasificador.fit(\n",
    "    x=X_train_scaled,\n",
    "    y=y_train,\n",
    "    batch_size=10,\n",
    "    epochs=50\n",
    ")"
   ]
  },
  {
   "cell_type": "markdown",
   "metadata": {},
   "source": [
    "### Parte 3: Evaluación de la RNA"
   ]
  },
  {
   "cell_type": "markdown",
   "metadata": {},
   "source": [
    "Se realiza las predicciones"
   ]
  },
  {
   "cell_type": "code",
   "execution_count": 41,
   "metadata": {},
   "outputs": [
    {
     "name": "stdout",
     "output_type": "stream",
     "text": [
      "63/63 [==============================] - 1s 4ms/step\n"
     ]
    }
   ],
   "source": [
    "y_pred = clasificador.predict(x=X_test_scaled)\n",
    "y_pred = (y_pred > 0.5)"
   ]
  },
  {
   "cell_type": "markdown",
   "metadata": {},
   "source": [
    "Se crea la matriz de confusión"
   ]
  },
  {
   "cell_type": "code",
   "execution_count": 42,
   "metadata": {},
   "outputs": [
    {
     "data": {
      "text/plain": [
       "array([[1543,   52],\n",
       "       [ 260,  145]], dtype=int64)"
      ]
     },
     "execution_count": 42,
     "metadata": {},
     "output_type": "execute_result"
    }
   ],
   "source": [
    "cm = confusion_matrix(y_test, y_pred)\n",
    "cm"
   ]
  },
  {
   "cell_type": "markdown",
   "metadata": {},
   "source": [
    "### Parte 4: Predecir una nueva observación"
   ]
  },
  {
   "cell_type": "markdown",
   "metadata": {},
   "source": [
    "Utilizando el modelo de RNA para predecir si el cliente con la siguiente información abandonará el banco:\n",
    "\n",
    "- Geografia: Francia\n",
    "\n",
    "- Puntaje de crédito: 600\n",
    "\n",
    "- Género masculino\n",
    "\n",
    "- Edad: 40 años de edad\n",
    "\n",
    "- Tenencia: 3 años.\n",
    "\n",
    "- Saldo: $ 60000\n",
    "\n",
    "- Número de productos: 2\n",
    "\n",
    "- ¿Este cliente tiene una tarjeta de crédito? Sí\n",
    "\n",
    "- ¿Es este cliente un miembro activo? Sí\n",
    "\n",
    "- Salario estimado: $ 50000"
   ]
  },
  {
   "cell_type": "code",
   "execution_count": 43,
   "metadata": {},
   "outputs": [
    {
     "name": "stdout",
     "output_type": "stream",
     "text": [
      "1/1 [==============================] - 0s 83ms/step\n",
      "[[False]]\n"
     ]
    }
   ],
   "source": [
    "obs = np.array([[600, 40, 3, 60000, 2, 1, 1, 50000, 1, 0, 0]])\n",
    "obs_scaled = scaler.transform(obs)\n",
    "nueva_pred = clasificador.predict(obs_scaled)\n",
    "print(nueva_pred > 0.5)"
   ]
  },
  {
   "cell_type": "markdown",
   "metadata": {},
   "source": [
    "### Parte 5: Validación cruzada"
   ]
  },
  {
   "cell_type": "markdown",
   "metadata": {},
   "source": [
    "Se define la función se crea el clasificador"
   ]
  },
  {
   "cell_type": "code",
   "execution_count": 44,
   "metadata": {},
   "outputs": [],
   "source": [
    "def construir_clasificador():\n",
    "    #Se crea la RNA\n",
    "    clasificador = Sequential()\n",
    "\n",
    "    #Se agregan las capas ocultas\n",
    "    clasificador.add(Dense(units=6, kernel_initializer='uniform', activation='relu', input_dim=11))\n",
    "    clasificador.add(Dropout(rate=0.1))\n",
    "    clasificador.add(Dense(units=6, kernel_initializer='uniform', activation='relu'))\n",
    "    clasificador.add(Dropout(rate=0.1))\n",
    "    \n",
    "    #Se agrega la capa de salidas\n",
    "    clasificador.add(Dense(units=1, kernel_initializer='uniform', activation='sigmoid'))\n",
    "\n",
    "    #Compilar la RNA\n",
    "    clasificador.compile(\n",
    "        optimizer=\"adam\",\n",
    "        loss=\"binary_crossentropy\",\n",
    "        metrics = [\"accuracy\"]\n",
    "    )\n",
    "\n",
    "    return clasificador"
   ]
  },
  {
   "cell_type": "markdown",
   "metadata": {},
   "source": [
    "Se crea el clasificador en  el contexto de sklearn"
   ]
  },
  {
   "cell_type": "code",
   "execution_count": 45,
   "metadata": {},
   "outputs": [
    {
     "name": "stderr",
     "output_type": "stream",
     "text": [
      "[Parallel(n_jobs=1)]: Using backend SequentialBackend with 1 concurrent workers.\n"
     ]
    },
    {
     "name": "stdout",
     "output_type": "stream",
     "text": [
      "720/720 [==============================] - 4s 4ms/step - loss: 0.4923 - accuracy: 0.7965\n",
      "80/80 [==============================] - 1s 3ms/step - loss: 0.4332 - accuracy: 0.7862\n",
      "720/720 [==============================] - 4s 4ms/step - loss: 0.5077 - accuracy: 0.7958\n",
      "80/80 [==============================] - 1s 3ms/step - loss: 0.4312 - accuracy: 0.7900\n",
      "720/720 [==============================] - 4s 3ms/step - loss: 0.4989 - accuracy: 0.7951\n",
      "80/80 [==============================] - 1s 3ms/step - loss: 0.4279 - accuracy: 0.8000\n",
      "720/720 [==============================] - 3s 3ms/step - loss: 0.4873 - accuracy: 0.7975\n",
      "80/80 [==============================] - 0s 2ms/step - loss: 0.4585 - accuracy: 0.7825\n",
      "720/720 [==============================] - 3s 3ms/step - loss: 0.5050 - accuracy: 0.7933\n",
      "80/80 [==============================] - 0s 3ms/step - loss: 0.4005 - accuracy: 0.8163\n",
      "720/720 [==============================] - 3s 3ms/step - loss: 0.5031 - accuracy: 0.7936\n",
      "80/80 [==============================] - 0s 3ms/step - loss: 0.4244 - accuracy: 0.8100\n",
      "720/720 [==============================] - 4s 5ms/step - loss: 0.5026 - accuracy: 0.7969\n",
      "80/80 [==============================] - 1s 3ms/step - loss: 0.4348 - accuracy: 0.7875\n",
      "720/720 [==============================] - 5s 4ms/step - loss: 0.4905 - accuracy: 0.7960\n",
      "80/80 [==============================] - 1s 3ms/step - loss: 0.4459 - accuracy: 0.7937\n",
      "720/720 [==============================] - 3s 3ms/step - loss: 0.4987 - accuracy: 0.7953\n",
      "80/80 [==============================] - 0s 3ms/step - loss: 0.4537 - accuracy: 0.7987\n",
      "720/720 [==============================] - 4s 4ms/step - loss: 0.4975 - accuracy: 0.7958\n",
      "80/80 [==============================] - 0s 2ms/step - loss: 0.4231 - accuracy: 0.7950\n"
     ]
    },
    {
     "name": "stderr",
     "output_type": "stream",
     "text": [
      "[Parallel(n_jobs=1)]: Done  10 out of  10 | elapsed:   45.5s finished\n"
     ]
    }
   ],
   "source": [
    "clasificador = KerasClassifier(build_fn = construir_clasificador, batch_size = 10, nb_epoch = 40)\n",
    "accuracies = cross_val_score(estimator=clasificador, X=X_train_scaled, y=y_train, cv=10, verbose=1)"
   ]
  },
  {
   "cell_type": "markdown",
   "metadata": {},
   "source": [
    "Resultados de la validación cruzada"
   ]
  },
  {
   "cell_type": "code",
   "execution_count": 46,
   "metadata": {},
   "outputs": [
    {
     "name": "stdout",
     "output_type": "stream",
     "text": [
      "Resultados de la validación cruzada\n",
      "Sesgo: 0.80\n",
      "Varianza: 0.01\n"
     ]
    }
   ],
   "source": [
    "print('Resultados de la validación cruzada')\n",
    "print('Sesgo: {:.2f}'.format(accuracies.mean()))\n",
    "print('Varianza: {:.2f}'.format(accuracies.std()))"
   ]
  }
 ],
 "metadata": {
  "kernelspec": {
   "display_name": "venv",
   "language": "python",
   "name": "python3"
  },
  "language_info": {
   "codemirror_mode": {
    "name": "ipython",
    "version": 3
   },
   "file_extension": ".py",
   "mimetype": "text/x-python",
   "name": "python",
   "nbconvert_exporter": "python",
   "pygments_lexer": "ipython3",
   "version": "3.9.13"
  }
 },
 "nbformat": 4,
 "nbformat_minor": 2
}
