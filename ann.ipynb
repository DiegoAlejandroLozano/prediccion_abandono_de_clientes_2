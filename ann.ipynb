{
 "cells": [
  {
   "cell_type": "markdown",
   "metadata": {},
   "source": [
    "Importanción de librerias"
   ]
  },
  {
   "cell_type": "code",
   "execution_count": 57,
   "metadata": {},
   "outputs": [],
   "source": [
    "import warnings\n",
    "warnings.filterwarnings(\"ignore\")"
   ]
  },
  {
   "cell_type": "code",
   "execution_count": 58,
   "metadata": {},
   "outputs": [],
   "source": [
    "import pandas as pd\n",
    "import numpy as np\n",
    "\n",
    "from keras.models import Sequential\n",
    "from keras.layers import Dense\n",
    "\n",
    "from sklearn.model_selection import train_test_split\n",
    "from sklearn.preprocessing import StandardScaler\n",
    "from sklearn.metrics import confusion_matrix"
   ]
  },
  {
   "cell_type": "markdown",
   "metadata": {},
   "source": [
    "### Parte 1: Procesamiento de los datos"
   ]
  },
  {
   "cell_type": "markdown",
   "metadata": {},
   "source": [
    "Cargando de los datos"
   ]
  },
  {
   "cell_type": "code",
   "execution_count": 59,
   "metadata": {},
   "outputs": [
    {
     "data": {
      "text/html": [
       "<div>\n",
       "<style scoped>\n",
       "    .dataframe tbody tr th:only-of-type {\n",
       "        vertical-align: middle;\n",
       "    }\n",
       "\n",
       "    .dataframe tbody tr th {\n",
       "        vertical-align: top;\n",
       "    }\n",
       "\n",
       "    .dataframe thead th {\n",
       "        text-align: right;\n",
       "    }\n",
       "</style>\n",
       "<table border=\"1\" class=\"dataframe\">\n",
       "  <thead>\n",
       "    <tr style=\"text-align: right;\">\n",
       "      <th></th>\n",
       "      <th>RowNumber</th>\n",
       "      <th>CustomerId</th>\n",
       "      <th>Surname</th>\n",
       "      <th>CreditScore</th>\n",
       "      <th>Geography</th>\n",
       "      <th>Gender</th>\n",
       "      <th>Age</th>\n",
       "      <th>Tenure</th>\n",
       "      <th>Balance</th>\n",
       "      <th>NumOfProducts</th>\n",
       "      <th>HasCrCard</th>\n",
       "      <th>IsActiveMember</th>\n",
       "      <th>EstimatedSalary</th>\n",
       "      <th>Exited</th>\n",
       "    </tr>\n",
       "  </thead>\n",
       "  <tbody>\n",
       "    <tr>\n",
       "      <th>0</th>\n",
       "      <td>1</td>\n",
       "      <td>15634602</td>\n",
       "      <td>Hargrave</td>\n",
       "      <td>619</td>\n",
       "      <td>France</td>\n",
       "      <td>Female</td>\n",
       "      <td>42</td>\n",
       "      <td>2</td>\n",
       "      <td>0.00</td>\n",
       "      <td>1</td>\n",
       "      <td>1</td>\n",
       "      <td>1</td>\n",
       "      <td>101348.88</td>\n",
       "      <td>1</td>\n",
       "    </tr>\n",
       "    <tr>\n",
       "      <th>1</th>\n",
       "      <td>2</td>\n",
       "      <td>15647311</td>\n",
       "      <td>Hill</td>\n",
       "      <td>608</td>\n",
       "      <td>Spain</td>\n",
       "      <td>Female</td>\n",
       "      <td>41</td>\n",
       "      <td>1</td>\n",
       "      <td>83807.86</td>\n",
       "      <td>1</td>\n",
       "      <td>0</td>\n",
       "      <td>1</td>\n",
       "      <td>112542.58</td>\n",
       "      <td>0</td>\n",
       "    </tr>\n",
       "    <tr>\n",
       "      <th>2</th>\n",
       "      <td>3</td>\n",
       "      <td>15619304</td>\n",
       "      <td>Onio</td>\n",
       "      <td>502</td>\n",
       "      <td>France</td>\n",
       "      <td>Female</td>\n",
       "      <td>42</td>\n",
       "      <td>8</td>\n",
       "      <td>159660.80</td>\n",
       "      <td>3</td>\n",
       "      <td>1</td>\n",
       "      <td>0</td>\n",
       "      <td>113931.57</td>\n",
       "      <td>1</td>\n",
       "    </tr>\n",
       "    <tr>\n",
       "      <th>3</th>\n",
       "      <td>4</td>\n",
       "      <td>15701354</td>\n",
       "      <td>Boni</td>\n",
       "      <td>699</td>\n",
       "      <td>France</td>\n",
       "      <td>Female</td>\n",
       "      <td>39</td>\n",
       "      <td>1</td>\n",
       "      <td>0.00</td>\n",
       "      <td>2</td>\n",
       "      <td>0</td>\n",
       "      <td>0</td>\n",
       "      <td>93826.63</td>\n",
       "      <td>0</td>\n",
       "    </tr>\n",
       "    <tr>\n",
       "      <th>4</th>\n",
       "      <td>5</td>\n",
       "      <td>15737888</td>\n",
       "      <td>Mitchell</td>\n",
       "      <td>850</td>\n",
       "      <td>Spain</td>\n",
       "      <td>Female</td>\n",
       "      <td>43</td>\n",
       "      <td>2</td>\n",
       "      <td>125510.82</td>\n",
       "      <td>1</td>\n",
       "      <td>1</td>\n",
       "      <td>1</td>\n",
       "      <td>79084.10</td>\n",
       "      <td>0</td>\n",
       "    </tr>\n",
       "  </tbody>\n",
       "</table>\n",
       "</div>"
      ],
      "text/plain": [
       "   RowNumber  CustomerId   Surname  CreditScore Geography  Gender  Age   \n",
       "0          1    15634602  Hargrave          619    France  Female   42  \\\n",
       "1          2    15647311      Hill          608     Spain  Female   41   \n",
       "2          3    15619304      Onio          502    France  Female   42   \n",
       "3          4    15701354      Boni          699    France  Female   39   \n",
       "4          5    15737888  Mitchell          850     Spain  Female   43   \n",
       "\n",
       "   Tenure    Balance  NumOfProducts  HasCrCard  IsActiveMember   \n",
       "0       2       0.00              1          1               1  \\\n",
       "1       1   83807.86              1          0               1   \n",
       "2       8  159660.80              3          1               0   \n",
       "3       1       0.00              2          0               0   \n",
       "4       2  125510.82              1          1               1   \n",
       "\n",
       "   EstimatedSalary  Exited  \n",
       "0        101348.88       1  \n",
       "1        112542.58       0  \n",
       "2        113931.57       1  \n",
       "3         93826.63       0  \n",
       "4         79084.10       0  "
      ]
     },
     "execution_count": 59,
     "metadata": {},
     "output_type": "execute_result"
    }
   ],
   "source": [
    "dataset = pd.read_csv('datos_crudos/Churn_Modelling.csv')\n",
    "dataset.head()"
   ]
  },
  {
   "cell_type": "markdown",
   "metadata": {},
   "source": [
    "Separando las variables independientes y la variable dependiente"
   ]
  },
  {
   "cell_type": "code",
   "execution_count": 60,
   "metadata": {},
   "outputs": [],
   "source": [
    "X = dataset.iloc[:, 3:13] #Variables independientes\n",
    "y = dataset.iloc[:, 13] #Variable dependiente"
   ]
  },
  {
   "cell_type": "markdown",
   "metadata": {},
   "source": [
    "Codificación de datos categóricos"
   ]
  },
  {
   "cell_type": "code",
   "execution_count": 61,
   "metadata": {},
   "outputs": [
    {
     "data": {
      "text/html": [
       "<div>\n",
       "<style scoped>\n",
       "    .dataframe tbody tr th:only-of-type {\n",
       "        vertical-align: middle;\n",
       "    }\n",
       "\n",
       "    .dataframe tbody tr th {\n",
       "        vertical-align: top;\n",
       "    }\n",
       "\n",
       "    .dataframe thead th {\n",
       "        text-align: right;\n",
       "    }\n",
       "</style>\n",
       "<table border=\"1\" class=\"dataframe\">\n",
       "  <thead>\n",
       "    <tr style=\"text-align: right;\">\n",
       "      <th></th>\n",
       "      <th>CreditScore</th>\n",
       "      <th>Gender</th>\n",
       "      <th>Age</th>\n",
       "      <th>Tenure</th>\n",
       "      <th>Balance</th>\n",
       "      <th>NumOfProducts</th>\n",
       "      <th>HasCrCard</th>\n",
       "      <th>IsActiveMember</th>\n",
       "      <th>EstimatedSalary</th>\n",
       "      <th>Geography_France</th>\n",
       "      <th>Geography_Germany</th>\n",
       "    </tr>\n",
       "  </thead>\n",
       "  <tbody>\n",
       "    <tr>\n",
       "      <th>0</th>\n",
       "      <td>619</td>\n",
       "      <td>Female</td>\n",
       "      <td>42</td>\n",
       "      <td>2</td>\n",
       "      <td>0.00</td>\n",
       "      <td>1</td>\n",
       "      <td>1</td>\n",
       "      <td>1</td>\n",
       "      <td>101348.88</td>\n",
       "      <td>1</td>\n",
       "      <td>0</td>\n",
       "    </tr>\n",
       "    <tr>\n",
       "      <th>1</th>\n",
       "      <td>608</td>\n",
       "      <td>Female</td>\n",
       "      <td>41</td>\n",
       "      <td>1</td>\n",
       "      <td>83807.86</td>\n",
       "      <td>1</td>\n",
       "      <td>0</td>\n",
       "      <td>1</td>\n",
       "      <td>112542.58</td>\n",
       "      <td>0</td>\n",
       "      <td>0</td>\n",
       "    </tr>\n",
       "    <tr>\n",
       "      <th>2</th>\n",
       "      <td>502</td>\n",
       "      <td>Female</td>\n",
       "      <td>42</td>\n",
       "      <td>8</td>\n",
       "      <td>159660.80</td>\n",
       "      <td>3</td>\n",
       "      <td>1</td>\n",
       "      <td>0</td>\n",
       "      <td>113931.57</td>\n",
       "      <td>1</td>\n",
       "      <td>0</td>\n",
       "    </tr>\n",
       "    <tr>\n",
       "      <th>3</th>\n",
       "      <td>699</td>\n",
       "      <td>Female</td>\n",
       "      <td>39</td>\n",
       "      <td>1</td>\n",
       "      <td>0.00</td>\n",
       "      <td>2</td>\n",
       "      <td>0</td>\n",
       "      <td>0</td>\n",
       "      <td>93826.63</td>\n",
       "      <td>1</td>\n",
       "      <td>0</td>\n",
       "    </tr>\n",
       "    <tr>\n",
       "      <th>4</th>\n",
       "      <td>850</td>\n",
       "      <td>Female</td>\n",
       "      <td>43</td>\n",
       "      <td>2</td>\n",
       "      <td>125510.82</td>\n",
       "      <td>1</td>\n",
       "      <td>1</td>\n",
       "      <td>1</td>\n",
       "      <td>79084.10</td>\n",
       "      <td>0</td>\n",
       "      <td>0</td>\n",
       "    </tr>\n",
       "  </tbody>\n",
       "</table>\n",
       "</div>"
      ],
      "text/plain": [
       "   CreditScore  Gender  Age  Tenure    Balance  NumOfProducts  HasCrCard   \n",
       "0          619  Female   42       2       0.00              1          1  \\\n",
       "1          608  Female   41       1   83807.86              1          0   \n",
       "2          502  Female   42       8  159660.80              3          1   \n",
       "3          699  Female   39       1       0.00              2          0   \n",
       "4          850  Female   43       2  125510.82              1          1   \n",
       "\n",
       "   IsActiveMember  EstimatedSalary  Geography_France  Geography_Germany  \n",
       "0               1        101348.88                 1                  0  \n",
       "1               1        112542.58                 0                  0  \n",
       "2               0        113931.57                 1                  0  \n",
       "3               0         93826.63                 1                  0  \n",
       "4               1         79084.10                 0                  0  "
      ]
     },
     "execution_count": 61,
     "metadata": {},
     "output_type": "execute_result"
    }
   ],
   "source": [
    "#Codificando la variable categórica \"Geography\"\n",
    "one_hot_encoding = pd.get_dummies(X['Geography'], prefix='Geography').astype(int)\n",
    "X = pd.concat([X, one_hot_encoding], axis=1)\n",
    "#Se elimina la columna \"Geography_Spain\" para evitar problemas de multicolinealidad\n",
    "X.drop(['Geography', 'Geography_Spain'], axis=1, inplace=True)\n",
    "X.head()"
   ]
  },
  {
   "cell_type": "code",
   "execution_count": 62,
   "metadata": {},
   "outputs": [
    {
     "data": {
      "text/html": [
       "<div>\n",
       "<style scoped>\n",
       "    .dataframe tbody tr th:only-of-type {\n",
       "        vertical-align: middle;\n",
       "    }\n",
       "\n",
       "    .dataframe tbody tr th {\n",
       "        vertical-align: top;\n",
       "    }\n",
       "\n",
       "    .dataframe thead th {\n",
       "        text-align: right;\n",
       "    }\n",
       "</style>\n",
       "<table border=\"1\" class=\"dataframe\">\n",
       "  <thead>\n",
       "    <tr style=\"text-align: right;\">\n",
       "      <th></th>\n",
       "      <th>CreditScore</th>\n",
       "      <th>Age</th>\n",
       "      <th>Tenure</th>\n",
       "      <th>Balance</th>\n",
       "      <th>NumOfProducts</th>\n",
       "      <th>HasCrCard</th>\n",
       "      <th>IsActiveMember</th>\n",
       "      <th>EstimatedSalary</th>\n",
       "      <th>Geography_France</th>\n",
       "      <th>Geography_Germany</th>\n",
       "      <th>Gender</th>\n",
       "    </tr>\n",
       "  </thead>\n",
       "  <tbody>\n",
       "    <tr>\n",
       "      <th>0</th>\n",
       "      <td>619</td>\n",
       "      <td>42</td>\n",
       "      <td>2</td>\n",
       "      <td>0.00</td>\n",
       "      <td>1</td>\n",
       "      <td>1</td>\n",
       "      <td>1</td>\n",
       "      <td>101348.88</td>\n",
       "      <td>1</td>\n",
       "      <td>0</td>\n",
       "      <td>1</td>\n",
       "    </tr>\n",
       "    <tr>\n",
       "      <th>1</th>\n",
       "      <td>608</td>\n",
       "      <td>41</td>\n",
       "      <td>1</td>\n",
       "      <td>83807.86</td>\n",
       "      <td>1</td>\n",
       "      <td>0</td>\n",
       "      <td>1</td>\n",
       "      <td>112542.58</td>\n",
       "      <td>0</td>\n",
       "      <td>0</td>\n",
       "      <td>1</td>\n",
       "    </tr>\n",
       "    <tr>\n",
       "      <th>2</th>\n",
       "      <td>502</td>\n",
       "      <td>42</td>\n",
       "      <td>8</td>\n",
       "      <td>159660.80</td>\n",
       "      <td>3</td>\n",
       "      <td>1</td>\n",
       "      <td>0</td>\n",
       "      <td>113931.57</td>\n",
       "      <td>1</td>\n",
       "      <td>0</td>\n",
       "      <td>1</td>\n",
       "    </tr>\n",
       "    <tr>\n",
       "      <th>3</th>\n",
       "      <td>699</td>\n",
       "      <td>39</td>\n",
       "      <td>1</td>\n",
       "      <td>0.00</td>\n",
       "      <td>2</td>\n",
       "      <td>0</td>\n",
       "      <td>0</td>\n",
       "      <td>93826.63</td>\n",
       "      <td>1</td>\n",
       "      <td>0</td>\n",
       "      <td>1</td>\n",
       "    </tr>\n",
       "    <tr>\n",
       "      <th>4</th>\n",
       "      <td>850</td>\n",
       "      <td>43</td>\n",
       "      <td>2</td>\n",
       "      <td>125510.82</td>\n",
       "      <td>1</td>\n",
       "      <td>1</td>\n",
       "      <td>1</td>\n",
       "      <td>79084.10</td>\n",
       "      <td>0</td>\n",
       "      <td>0</td>\n",
       "      <td>1</td>\n",
       "    </tr>\n",
       "  </tbody>\n",
       "</table>\n",
       "</div>"
      ],
      "text/plain": [
       "   CreditScore  Age  Tenure    Balance  NumOfProducts  HasCrCard   \n",
       "0          619   42       2       0.00              1          1  \\\n",
       "1          608   41       1   83807.86              1          0   \n",
       "2          502   42       8  159660.80              3          1   \n",
       "3          699   39       1       0.00              2          0   \n",
       "4          850   43       2  125510.82              1          1   \n",
       "\n",
       "   IsActiveMember  EstimatedSalary  Geography_France  Geography_Germany   \n",
       "0               1        101348.88                 1                  0  \\\n",
       "1               1        112542.58                 0                  0   \n",
       "2               0        113931.57                 1                  0   \n",
       "3               0         93826.63                 1                  0   \n",
       "4               1         79084.10                 0                  0   \n",
       "\n",
       "   Gender  \n",
       "0       1  \n",
       "1       1  \n",
       "2       1  \n",
       "3       1  \n",
       "4       1  "
      ]
     },
     "execution_count": 62,
     "metadata": {},
     "output_type": "execute_result"
    }
   ],
   "source": [
    "#Codificando la variable categórica \"Gender\"\n",
    "sexo = pd.get_dummies(X['Gender'], prefix='sex').astype(int)\n",
    "X = pd.concat([X, sexo], axis=1)\n",
    "X.drop(['Gender', 'sex_Male'], axis=1, inplace=True)\n",
    "X.rename(columns={'sex_Female':'Gender'}, inplace=True)\n",
    "X.head()\n",
    "#La columna Gender 1 es para femenino y 0 para masculino"
   ]
  },
  {
   "cell_type": "markdown",
   "metadata": {},
   "source": [
    "Dividisión del dataframe en entrenamiento y en prueba"
   ]
  },
  {
   "cell_type": "code",
   "execution_count": 63,
   "metadata": {},
   "outputs": [],
   "source": [
    "X_train, X_test, y_train, y_test = train_test_split(X, y, test_size=0.2, random_state=0)"
   ]
  },
  {
   "cell_type": "markdown",
   "metadata": {},
   "source": [
    "Escalando las variables"
   ]
  },
  {
   "cell_type": "code",
   "execution_count": 64,
   "metadata": {},
   "outputs": [],
   "source": [
    "scaler = StandardScaler()\n",
    "X_train_scaled = scaler.fit_transform(X_train)\n",
    "X_test_scaled = scaler.transform(X_test)"
   ]
  },
  {
   "cell_type": "markdown",
   "metadata": {},
   "source": [
    "### Parte 2: Construcción de la red neuronal artificial (RNA)"
   ]
  },
  {
   "cell_type": "markdown",
   "metadata": {},
   "source": [
    "Inicializando la RNA"
   ]
  },
  {
   "cell_type": "code",
   "execution_count": 65,
   "metadata": {},
   "outputs": [],
   "source": [
    "#Se crea la RNA\n",
    "clasificador = Sequential()\n",
    "\n",
    "#Se agregan las capas ocultas\n",
    "clasificador.add(Dense(units=6, kernel_initializer='uniform', activation='relu', input_dim=11))\n",
    "clasificador.add(Dense(units=6, kernel_initializer='uniform', activation='relu'))\n",
    "\n",
    "#Se agrega la capa de salidas\n",
    "clasificador.add(Dense(units=1, kernel_initializer='uniform', activation='sigmoid'))\n",
    "\n",
    "#Compilar la RNA\n",
    "clasificador.compile(\n",
    "    optimizer=\"adam\",\n",
    "    loss=\"binary_crossentropy\",\n",
    "    metrics = [\"accuracy\"]\n",
    ")"
   ]
  },
  {
   "cell_type": "markdown",
   "metadata": {},
   "source": [
    "Entrenando la RNA"
   ]
  },
  {
   "cell_type": "code",
   "execution_count": 66,
   "metadata": {},
   "outputs": [
    {
     "name": "stdout",
     "output_type": "stream",
     "text": [
      "Epoch 1/50\n"
     ]
    },
    {
     "name": "stdout",
     "output_type": "stream",
     "text": [
      "800/800 [==============================] - 6s 5ms/step - loss: 0.4855 - accuracy: 0.7956\n",
      "Epoch 2/50\n",
      "800/800 [==============================] - 3s 3ms/step - loss: 0.4279 - accuracy: 0.7960\n",
      "Epoch 3/50\n",
      "800/800 [==============================] - 3s 3ms/step - loss: 0.4225 - accuracy: 0.7960\n",
      "Epoch 4/50\n",
      "800/800 [==============================] - 2s 3ms/step - loss: 0.4185 - accuracy: 0.8175\n",
      "Epoch 5/50\n",
      "800/800 [==============================] - 3s 3ms/step - loss: 0.4159 - accuracy: 0.8276\n",
      "Epoch 6/50\n",
      "800/800 [==============================] - 3s 3ms/step - loss: 0.4139 - accuracy: 0.8307\n",
      "Epoch 7/50\n",
      "800/800 [==============================] - 3s 3ms/step - loss: 0.4125 - accuracy: 0.8304\n",
      "Epoch 8/50\n",
      "800/800 [==============================] - 3s 3ms/step - loss: 0.4108 - accuracy: 0.8335\n",
      "Epoch 9/50\n",
      "800/800 [==============================] - 3s 3ms/step - loss: 0.4107 - accuracy: 0.8325\n",
      "Epoch 10/50\n",
      "800/800 [==============================] - 3s 3ms/step - loss: 0.4095 - accuracy: 0.8330\n",
      "Epoch 11/50\n",
      "800/800 [==============================] - 3s 3ms/step - loss: 0.4084 - accuracy: 0.8349\n",
      "Epoch 12/50\n",
      "800/800 [==============================] - 3s 3ms/step - loss: 0.4074 - accuracy: 0.8331\n",
      "Epoch 13/50\n",
      "800/800 [==============================] - 3s 3ms/step - loss: 0.4069 - accuracy: 0.8347\n",
      "Epoch 14/50\n",
      "800/800 [==============================] - 3s 4ms/step - loss: 0.4062 - accuracy: 0.8341\n",
      "Epoch 15/50\n",
      "800/800 [==============================] - 2s 3ms/step - loss: 0.4057 - accuracy: 0.8341\n",
      "Epoch 16/50\n",
      "800/800 [==============================] - 3s 3ms/step - loss: 0.4057 - accuracy: 0.8339\n",
      "Epoch 17/50\n",
      "800/800 [==============================] - 3s 3ms/step - loss: 0.4052 - accuracy: 0.8356\n",
      "Epoch 18/50\n",
      "800/800 [==============================] - 3s 4ms/step - loss: 0.4050 - accuracy: 0.8357\n",
      "Epoch 19/50\n",
      "800/800 [==============================] - 2s 3ms/step - loss: 0.4049 - accuracy: 0.8351\n",
      "Epoch 20/50\n",
      "800/800 [==============================] - 2s 3ms/step - loss: 0.4046 - accuracy: 0.8354\n",
      "Epoch 21/50\n",
      "800/800 [==============================] - 2s 3ms/step - loss: 0.4046 - accuracy: 0.8345\n",
      "Epoch 22/50\n",
      "800/800 [==============================] - 2s 3ms/step - loss: 0.4032 - accuracy: 0.8342\n",
      "Epoch 23/50\n",
      "800/800 [==============================] - 2s 3ms/step - loss: 0.4041 - accuracy: 0.8339\n",
      "Epoch 24/50\n",
      "800/800 [==============================] - 3s 3ms/step - loss: 0.4037 - accuracy: 0.8349\n",
      "Epoch 25/50\n",
      "800/800 [==============================] - 2s 3ms/step - loss: 0.4037 - accuracy: 0.8345\n",
      "Epoch 26/50\n",
      "800/800 [==============================] - 2s 3ms/step - loss: 0.4035 - accuracy: 0.8357\n",
      "Epoch 27/50\n",
      "800/800 [==============================] - 2s 3ms/step - loss: 0.4036 - accuracy: 0.8347\n",
      "Epoch 28/50\n",
      "800/800 [==============================] - 2s 3ms/step - loss: 0.4031 - accuracy: 0.8341\n",
      "Epoch 29/50\n",
      "800/800 [==============================] - 2s 3ms/step - loss: 0.4030 - accuracy: 0.8347\n",
      "Epoch 30/50\n",
      "800/800 [==============================] - 2s 3ms/step - loss: 0.4030 - accuracy: 0.8360\n",
      "Epoch 31/50\n",
      "800/800 [==============================] - 3s 3ms/step - loss: 0.4029 - accuracy: 0.8346\n",
      "Epoch 32/50\n",
      "800/800 [==============================] - 2s 3ms/step - loss: 0.4031 - accuracy: 0.8347\n",
      "Epoch 33/50\n",
      "800/800 [==============================] - 3s 4ms/step - loss: 0.4024 - accuracy: 0.8349\n",
      "Epoch 34/50\n",
      "800/800 [==============================] - 2s 3ms/step - loss: 0.4023 - accuracy: 0.8340\n",
      "Epoch 35/50\n",
      "800/800 [==============================] - 2s 3ms/step - loss: 0.4026 - accuracy: 0.8357\n",
      "Epoch 36/50\n",
      "800/800 [==============================] - 2s 3ms/step - loss: 0.4027 - accuracy: 0.8356\n",
      "Epoch 37/50\n",
      "800/800 [==============================] - 2s 2ms/step - loss: 0.4026 - accuracy: 0.8349\n",
      "Epoch 38/50\n",
      "800/800 [==============================] - 2s 3ms/step - loss: 0.4023 - accuracy: 0.8350\n",
      "Epoch 39/50\n",
      "800/800 [==============================] - 2s 3ms/step - loss: 0.4024 - accuracy: 0.8339\n",
      "Epoch 40/50\n",
      "800/800 [==============================] - 2s 2ms/step - loss: 0.4024 - accuracy: 0.8346\n",
      "Epoch 41/50\n",
      "800/800 [==============================] - 2s 2ms/step - loss: 0.4025 - accuracy: 0.8361\n",
      "Epoch 42/50\n",
      "800/800 [==============================] - 2s 2ms/step - loss: 0.4020 - accuracy: 0.8353\n",
      "Epoch 43/50\n",
      "800/800 [==============================] - 2s 2ms/step - loss: 0.4011 - accuracy: 0.8354\n",
      "Epoch 44/50\n",
      "800/800 [==============================] - 2s 3ms/step - loss: 0.4020 - accuracy: 0.8354\n",
      "Epoch 45/50\n",
      "800/800 [==============================] - 2s 2ms/step - loss: 0.4018 - accuracy: 0.8359\n",
      "Epoch 46/50\n",
      "800/800 [==============================] - 2s 2ms/step - loss: 0.4017 - accuracy: 0.8351\n",
      "Epoch 47/50\n",
      "800/800 [==============================] - 2s 2ms/step - loss: 0.4022 - accuracy: 0.8357\n",
      "Epoch 48/50\n",
      "800/800 [==============================] - 2s 2ms/step - loss: 0.4021 - accuracy: 0.8332\n",
      "Epoch 49/50\n",
      "800/800 [==============================] - 2s 2ms/step - loss: 0.4014 - accuracy: 0.8359\n",
      "Epoch 50/50\n",
      "800/800 [==============================] - 2s 2ms/step - loss: 0.4022 - accuracy: 0.8344\n"
     ]
    },
    {
     "data": {
      "text/plain": [
       "<keras.callbacks.History at 0x1f04353a580>"
      ]
     },
     "execution_count": 66,
     "metadata": {},
     "output_type": "execute_result"
    }
   ],
   "source": [
    "clasificador.fit(\n",
    "    x=X_train_scaled,\n",
    "    y=y_train,\n",
    "    batch_size=10,\n",
    "    epochs=50\n",
    ")"
   ]
  },
  {
   "cell_type": "markdown",
   "metadata": {},
   "source": [
    "### Parte 3: Evaluación de la RNA"
   ]
  },
  {
   "cell_type": "markdown",
   "metadata": {},
   "source": [
    "Se realiza las predicciones"
   ]
  },
  {
   "cell_type": "code",
   "execution_count": 67,
   "metadata": {},
   "outputs": [
    {
     "name": "stdout",
     "output_type": "stream",
     "text": [
      "63/63 [==============================] - 0s 2ms/step\n"
     ]
    }
   ],
   "source": [
    "y_pred = clasificador.predict(x=X_test_scaled)\n",
    "y_pred = (y_pred > 0.5)"
   ]
  },
  {
   "cell_type": "markdown",
   "metadata": {},
   "source": [
    "Se crea la matriz de confusión"
   ]
  },
  {
   "cell_type": "code",
   "execution_count": 68,
   "metadata": {},
   "outputs": [
    {
     "data": {
      "text/plain": [
       "array([[1546,   49],\n",
       "       [ 267,  138]], dtype=int64)"
      ]
     },
     "execution_count": 68,
     "metadata": {},
     "output_type": "execute_result"
    }
   ],
   "source": [
    "cm = confusion_matrix(y_test, y_pred)\n",
    "cm"
   ]
  },
  {
   "cell_type": "markdown",
   "metadata": {},
   "source": [
    "### Parte 4: Predecir una nueva observación"
   ]
  },
  {
   "cell_type": "markdown",
   "metadata": {},
   "source": [
    "Utilizando el modelo de RNA para predecir si el cliente con la siguiente información abandonará el banco:\n",
    "\n",
    "- Geografia: Francia\n",
    "\n",
    "- Puntaje de crédito: 600\n",
    "\n",
    "- Género masculino\n",
    "\n",
    "- Edad: 40 años de edad\n",
    "\n",
    "- Tenencia: 3 años.\n",
    "\n",
    "- Saldo: $ 60000\n",
    "\n",
    "- Número de productos: 2\n",
    "\n",
    "- ¿Este cliente tiene una tarjeta de crédito? Sí\n",
    "\n",
    "- ¿Es este cliente un miembro activo? Sí\n",
    "\n",
    "- Salario estimado: $ 50000"
   ]
  },
  {
   "cell_type": "code",
   "execution_count": 69,
   "metadata": {},
   "outputs": [
    {
     "name": "stdout",
     "output_type": "stream",
     "text": [
      "1/1 [==============================] - 0s 57ms/step\n",
      "[[False]]\n"
     ]
    }
   ],
   "source": [
    "obs = np.array([[600, 40, 3, 60000, 2, 1, 1, 50000, 1, 0, 0]])\n",
    "obs_scaled = scaler.transform(obs)\n",
    "nueva_pred = clasificador.predict(obs_scaled)\n",
    "print(nueva_pred > 0.5)"
   ]
  },
  {
   "cell_type": "markdown",
   "metadata": {},
   "source": [
    "### Parte 5: Validación cruzada"
   ]
  }
 ],
 "metadata": {
  "kernelspec": {
   "display_name": "venv",
   "language": "python",
   "name": "python3"
  },
  "language_info": {
   "codemirror_mode": {
    "name": "ipython",
    "version": 3
   },
   "file_extension": ".py",
   "mimetype": "text/x-python",
   "name": "python",
   "nbconvert_exporter": "python",
   "pygments_lexer": "ipython3",
   "version": "3.9.13"
  }
 },
 "nbformat": 4,
 "nbformat_minor": 2
}
